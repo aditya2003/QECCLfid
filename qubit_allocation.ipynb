{
 "cells": [
  {
   "cell_type": "code",
   "execution_count": 1,
   "metadata": {},
   "outputs": [],
   "source": [
    "import numpy as np\n",
    "import cvxpy as cp\n",
    "import random"
   ]
  },
  {
   "cell_type": "code",
   "execution_count": 21,
   "metadata": {},
   "outputs": [],
   "source": [
    "def generate_support(nmaps, nqubits, nmaps_per_qubit, qubit_occupancies):\n",
    "    mat = cp.Variable(shape=(nmaps,nqubits), boolean = True)\n",
    "    constraints = []\n",
    "    col_sums = cp.sum(mat, axis=0, keepdims=True)\n",
    "    constraints.append(col_sums >= 1)\n",
    "    row_sums = cp.sum(mat, axis=1)\n",
    "    constraints.append(row_sums == qubit_occupancies)\n",
    "    objective = cp.Minimize(cp.norm(col_sums-nmaps_per_qubit,\"inf\"))\n",
    "    problem = cp.Problem(objective,constraints)\n",
    "    problem.solve()\n",
    "    if problem.status not in [\"infeasible\", \"unbounded\"]:\n",
    "        support = [tuple(np.nonzero(row)[0]) for row in mat.value]\n",
    "        print(\"Optimization value = {}\".format(problem.value))\n",
    "        print(\"Occupancy matrix = {}\".format(mat.value))\n",
    "        print(\"Number of maps per qubit : {}\".format(np.sum(mat.value,axis=0)))\n",
    "        print(\"Support : {}\".format(support))\n",
    "    else:\n",
    "        print(\"Qubit allocation to maps infeasible.\")\n",
    "    \n",
    "    \n",
    "    \n",
    "        \n",
    "            "
   ]
  },
  {
   "cell_type": "code",
   "execution_count": 25,
   "metadata": {},
   "outputs": [
    {
     "name": "stdout",
     "output_type": "stream",
     "text": [
      "Qubit occupancies : [1 3 3 3]\n",
      "Optimization value = 3.0\n",
      "Occupancy matrix = [[0. 0. 0. 0. 0. 0. 1.]\n",
      " [0. 1. 1. 0. 0. 1. 0.]\n",
      " [0. 0. 0. 1. 1. 0. 1.]\n",
      " [1. 0. 0. 0. 0. 1. 1.]]\n",
      "Number of maps per qubit : [1. 1. 1. 1. 1. 2. 3.]\n",
      "Support : [(6,), (1, 2, 5), (3, 4, 6), (0, 5, 6)]\n"
     ]
    }
   ],
   "source": [
    "nmaps = 4\n",
    "nqubits = 7\n",
    "nmaps_per_qubit = max(0.1*nmaps,1)\n",
    "qubit_occupancies = np.array([ random.randint(1, nqubits//2) for __ in range(nmaps)])\n",
    "print(\"Qubit occupancies : {}\".format(qubit_occupancies))\n",
    "generate_support(nmaps, nqubits, nmaps_per_qubit, qubit_occupancies)"
   ]
  },
  {
   "cell_type": "code",
   "execution_count": null,
   "metadata": {},
   "outputs": [],
   "source": []
  }
 ],
 "metadata": {
  "kernelspec": {
   "display_name": "Python 3",
   "language": "python",
   "name": "python3"
  },
  "language_info": {
   "codemirror_mode": {
    "name": "ipython",
    "version": 3
   },
   "file_extension": ".py",
   "mimetype": "text/x-python",
   "name": "python",
   "nbconvert_exporter": "python",
   "pygments_lexer": "ipython3",
   "version": "3.8.3"
  }
 },
 "nbformat": 4,
 "nbformat_minor": 4
}
