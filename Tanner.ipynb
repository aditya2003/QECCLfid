{
 "cells": [
  {
   "cell_type": "code",
   "execution_count": 1,
   "metadata": {},
   "outputs": [],
   "source": [
    "import numpy as np\n",
    "import matplotlib.pyplot as plt\n",
    "from scipy.special import comb"
   ]
  },
  {
   "cell_type": "code",
   "execution_count": 17,
   "metadata": {},
   "outputs": [],
   "source": [
    "def tanner_graph(interaction_range, nq, filename = None):\n",
    "    r\"\"\"\n",
    "    Generates a graph to showcase interactions\n",
    "    Inputs :\n",
    "    interaction_range : list of tuples \n",
    "    nq : Total number of qubits\n",
    "    filename : graph stored into the filename specified\n",
    "    Example inputs : interaction_range = [(1,2,3),(0,3),(4,6),(2,3,5,7),(6,)]\n",
    "    nq = 7    \n",
    "    \"\"\"\n",
    "    colors = ['b', 'g', 'r', 'c', 'm', 'y', 'k']\n",
    "    \n",
    "    nmaps = len(interaction_range)\n",
    "    lateral_shift_maps = 0\n",
    "    lateral_shift_qubits = 0\n",
    "    if(nmaps > nq):\n",
    "        lateral_shift_qubits += (nmaps-nq)/2\n",
    "    else:\n",
    "        lateral_shift_maps += (nq-nmaps)/2\n",
    "        \n",
    "    xmaps = [ lateral_shift_maps+i for i in range(nmaps)]\n",
    "    ymaps = [0.4 for __ in range(nmaps)]\n",
    "    for i in range(nmaps):\n",
    "        plt.annotate(\"$\\mathcal{E}_{%s}$\" %(str(i+1)),(xmaps[i] - 0.15, ymaps[i] + 0.04),fontsize = 14)\n",
    "        \n",
    "    xqubits = [ lateral_shift_qubits + i for i in range(nq)]\n",
    "    yqubits = [0 for __ in range(nq)]\n",
    "    for i in range(nq):\n",
    "        plt.annotate(\"$q_{%s}$\" %(str(i+1)),(xqubits[i] - 0.15, yqubits[i] - 0.06), fontsize = 14)\n",
    "        \n",
    "    plt.plot(xmaps, ymaps, linestyle = \"\", marker = \"s\", markersize = 25)\n",
    "    plt.plot(xqubits, yqubits, linestyle = \"\", marker = \"o\",  markersize = 25)\n",
    "    \n",
    "    shift = 0.035\n",
    "    for map_number in range(nmaps):\n",
    "        for q in interaction_range[map_number]:\n",
    "            plt.plot([xmaps[map_number], xqubits[q]],[ymaps[map_number]-shift, yqubits[q]+shift], color = colors[map_number%len(colors)])\n",
    "            \n",
    "    bottom, top = plt.ylim()\n",
    "    plt.ylim(bottom - 0.05,top + 0.05)\n",
    "    plt.axis('off')\n",
    "    if filename is None:\n",
    "        filename = \"tanner.pdf\"\n",
    "    plt.savefig(filename, dpi=100, quality=100)\n",
    "    plt.show()\n",
    "    "
   ]
  },
  {
   "cell_type": "code",
   "execution_count": 21,
   "metadata": {},
   "outputs": [
    {
     "data": {
      "image/png": "[encoded data removed]",
      "text/plain": [
       "<Figure size 432x288 with 1 Axes>"
      ]
     },
     "metadata": {
      "needs_background": "light"
     },
     "output_type": "display_data"
    }
   ],
   "source": [
    "interaction_range_l3 = [(3,5,6),(1,2),(0,4),(0,2,4),(1,),(3,5,6)]\n",
    "interaction_range_l2 = [(6,), (1,4,5), (6,), (0,3), (1,2)]\n",
    "nq = 7\n",
    "tanner_graph(interaction_range_l3,nq,\"tanner_l3.pdf\")"
   ]
  },
  {
   "cell_type": "code",
   "execution_count": 66,
   "metadata": {},
   "outputs": [],
   "source": [
    "def NRWeightsPlot(percentages, xlist):\n",
    "    # Plot histograms one on top of each other.\n",
    "    n_rows = percentages.shape[0]\n",
    "    n_cols = percentages.shape[1]\n",
    "    # indices = np.arange(n_rows)\n",
    "    #width = 1.0\n",
    "    #sum_cumul = np.cumsum(percentages, axis=1)\n",
    "    #print(\"cumulative shape {}\\n{}\".format(sum_cumul.shape, np.round(sum_cumul, 1)))\n",
    "    sum_cumul = np.zeros(n_rows)\n",
    "    # fig = plt.figure(figsize=(32, 22))\n",
    "    for i in range(n_cols):\n",
    "        plt.bar(np.arange(n_rows), percentages[:, i], width = 0.7, bottom = sum_cumul, label=i)\n",
    "        sum_cumul += percentages[:,i]\n",
    "    plt.ylabel('Percentage', fontsize = 24)\n",
    "    plt.xlabel(r'$\\alpha$', fontsize = 24)\n",
    "    plt.title('Weight wise distribution of NR data')\n",
    "    # plt.xticks(ind[::5], np.round(xlist,4)[::5], rotation = 45)\n",
    "    plt.xticks(np.arange(n_rows), np.round(xlist, 4), rotation = 45)\n",
    "    plt.yticks(np.arange(0, 100, 25))\n",
    "    plt.legend()\n",
    "    plt.show() "
   ]
  },
  {
   "cell_type": "code",
   "execution_count": 67,
   "metadata": {},
   "outputs": [],
   "source": [
    "def ComputeNRBudget(nr_weights_all, alphas, nq):\n",
    "    # Compute the relative budget of weight-w error rates in the NR dataset.\n",
    "    n_paulis = nr_weights_all.size\n",
    "    max_weight = np.max(nr_weights_all)\n",
    "    n_alphas = alphas.size\n",
    "    percent_errors = np.zeros((n_alphas, max_weight + 1), dtype=np.float)\n",
    "    for (alpha_count, alpha) in enumerate(alphas):\n",
    "        budget_pauli_count = max(int(alpha * n_paulis),1)\n",
    "        nr_weights = nr_weights_all[ : budget_pauli_count]\n",
    "        weights, weight_count = np.unique(nr_weights, return_counts = True)\n",
    "        print(\"alpha = {}\\nWeights : {} and their frequencies : {} \".format(alpha, weights, weight_count))\n",
    "        nerrors_weight = np.zeros(max_weight + 1, dtype = np.int)\n",
    "        excess_budget = 0\n",
    "        for (i, w) in enumerate(weights):\n",
    "            count = weight_count[i]\n",
    "            if(count > comb(nq, w) * (3 ** w)):\n",
    "                nerrors_weight[w] = comb(nq, w) * (3 ** w)\n",
    "                excess_budget += count - nerrors_weight[w]\n",
    "            else:\n",
    "                nerrors_weight[w] = count\n",
    "        # Redistributing excess errors generated by Poisson distribution\n",
    "        # Lower weights get priority over higher ones\n",
    "        for w in range(max_weight + 1):\n",
    "            need_weight_w = comb(nq, w)*(3 ** w) - nerrors_weight[w]\n",
    "            add_to_weight_w = min(excess_budget, need_weight_w)\n",
    "            nerrors_weight[w] += add_to_weight_w\n",
    "            excess_budget -= add_to_weight_w\n",
    "        percent_errors[alpha_count, :] = [nerrors_weight[w]*100/budget_pauli_count for w in range(max_weight+1)]\n",
    "    return percent_errors"
   ]
  },
  {
   "cell_type": "code",
   "execution_count": 68,
   "metadata": {},
   "outputs": [],
   "source": [
    "# hist_scatter(np.array([[25,25,25,25],[0,0,50,50],[100,0,0,0]]),[0,0.1,0.2])"
   ]
  },
  {
   "cell_type": "code",
   "execution_count": 69,
   "metadata": {},
   "outputs": [
    {
     "name": "stdout",
     "output_type": "stream",
     "text": [
      "alpha = 0.0001\n",
      "Weights : [2] and their frequencies : [1] \n",
      "alpha = 0.00012\n",
      "Weights : [2] and their frequencies : [1] \n",
      "alpha = 0.00015\n",
      "Weights : [2 6] and their frequencies : [1 1] \n",
      "alpha = 0.00018\n",
      "Weights : [2 6] and their frequencies : [1 1] \n",
      "alpha = 0.00022\n",
      "Weights : [1 2 6] and their frequencies : [1 1 1] \n",
      "alpha = 0.00027\n",
      "Weights : [1 2 6] and their frequencies : [1 1 2] \n",
      "alpha = 0.00033\n",
      "Weights : [1 2 6] and their frequencies : [2 1 2] \n",
      "alpha = 0.0004\n",
      "Weights : [0 1 2 6] and their frequencies : [1 2 1 2] \n",
      "alpha = 0.00048\n",
      "Weights : [0 1 2 5 6] and their frequencies : [1 2 1 1 2] \n",
      "alpha = 0.00059\n",
      "Weights : [0 1 2 5 6] and their frequencies : [2 2 2 1 2] \n",
      "alpha = 0.00072\n",
      "Weights : [0 1 2 5 6] and their frequencies : [2 2 2 2 3] \n",
      "alpha = 0.00088\n",
      "Weights : [0 1 2 5 6] and their frequencies : [2 2 2 2 6] \n",
      "alpha = 0.00107\n",
      "Weights : [0 1 2 4 5 6] and their frequencies : [3 2 3 1 2 6] \n",
      "alpha = 0.0013\n",
      "Weights : [0 1 2 4 5 6] and their frequencies : [4 2 4 1 4 6] \n",
      "alpha = 0.00158\n",
      "Weights : [0 1 2 3 4 5 6] and their frequencies : [4 3 4 3 1 4 6] \n",
      "alpha = 0.00193\n",
      "Weights : [0 1 2 3 4 5 6] and their frequencies : [8 4 4 3 1 5 6] \n",
      "alpha = 0.00235\n",
      "Weights : [0 1 2 3 4 5 6] and their frequencies : [9 5 5 5 2 5 7] \n",
      "alpha = 0.00287\n",
      "Weights : [0 1 2 3 4 5 6] and their frequencies : [10  7  6  6  4  5  9] \n",
      "alpha = 0.00349\n",
      "Weights : [0 1 2 3 4 5 6] and their frequencies : [13  7  7  7  5  7 11] \n",
      "alpha = 0.00425\n",
      "Weights : [0 1 2 3 4 5 6] and their frequencies : [13  8 10  9  8  9 12] \n",
      "alpha = 0.00518\n",
      "Weights : [0 1 2 3 4 5 6] and their frequencies : [13  9 14 12 11 11 14] \n",
      "alpha = 0.00631\n",
      "Weights : [0 1 2 3 4 5 6] and their frequencies : [17 10 17 15 17 12 15] \n",
      "alpha = 0.00769\n",
      "Weights : [0 1 2 3 4 5 6] and their frequencies : [21 13 21 19 20 15 16] \n",
      "alpha = 0.00936\n",
      "Weights : [0 1 2 3 4 5 6] and their frequencies : [29 15 24 23 22 19 21] \n",
      "alpha = 0.01141\n",
      "Weights : [0 1 2 3 4 5 6] and their frequencies : [33 20 28 27 31 23 24] \n",
      "alpha = 0.01389\n",
      "Weights : [0 1 2 3 4 5 6] and their frequencies : [41 26 31 32 39 30 28] \n",
      "alpha = 0.1\n",
      "Weights : [0 1 2 3 4 5 6] and their frequencies : [235 226 218 246 264 219 230] \n",
      "[[  0.    0.  100.    0.    0.    0.    0. ]\n",
      " [  0.    0.  100.    0.    0.    0.    0. ]\n",
      " [  0.    0.   50.    0.    0.    0.   50. ]\n",
      " [  0.    0.   50.    0.    0.    0.   50. ]\n",
      " [  0.   33.3  33.3   0.    0.    0.   33.3]\n",
      " [  0.   25.   25.    0.    0.    0.   50. ]\n",
      " [  0.   40.   20.    0.    0.    0.   40. ]\n",
      " [ 16.7  33.3  16.7   0.    0.    0.   33.3]\n",
      " [ 14.3  28.6  14.3   0.    0.   14.3  28.6]\n",
      " [ 11.1  33.3  22.2   0.    0.   11.1  22.2]\n",
      " [  9.1  27.3  18.2   0.    0.   18.2  27.3]\n",
      " [  7.1  21.4  14.3   0.    0.   14.3  42.9]\n",
      " [  5.9  23.5  17.6   0.    5.9  11.8  35.3]\n",
      " [  4.8  23.8  19.    0.    4.8  19.   28.6]\n",
      " [  4.   24.   16.   12.    4.   16.   24. ]\n",
      " [  3.2  35.5  12.9   9.7   3.2  16.1  19.4]\n",
      " [  2.6  34.2  13.2  13.2   5.3  13.2  18.4]\n",
      " [  2.1  34.   12.8  12.8   8.5  10.6  19.1]\n",
      " [  1.8  33.3  12.3  12.3   8.8  12.3  19.3]\n",
      " [  1.4  29.   14.5  13.   11.6  13.   17.4]\n",
      " [  1.2  25.   16.7  14.3  13.1  13.1  16.7]\n",
      " [  1.   20.4  21.4  14.6  16.5  11.7  14.6]\n",
      " [  0.8  16.8  26.4  15.2  16.   12.   12.8]\n",
      " [  0.7  13.7  30.1  15.   14.4  12.4  13.7]\n",
      " [  0.5  11.3  31.7  14.5  16.7  12.4  12.9]\n",
      " [  0.4   9.3  33.5  14.1  17.2  13.2  12.3]\n",
      " [  0.1   1.3  11.5  43.6  16.1  13.4  14. ]]\n"
     ]
    },
    {
     "data": {
      "image/png": "[encoded data removed]",
      "text/plain": [
       "<Figure size 432x288 with 1 Axes>"
      ]
     },
     "metadata": {
      "needs_background": "light"
     },
     "output_type": "display_data"
    }
   ],
   "source": [
    "nq = 7\n",
    "# nr_weights_l3 = np.loadtxt(\"/home/oem/Documents/chbank/aditya_beluga_cptp_l3_00/physical/nrw_cptp_0.07_4_8_1.5.txt\").astype(int)[4]\n",
    "nr_weights_l2 = np.random.randint(0, high=nq, size=(4**nq,))\n",
    "alphas_l2 = np.array([0.0001,0.00012,0.00015,0.00018,0.00022,0.00027,0.00033,0.0004,0.00048,0.00059,0.00072,0.00088,0.00107,0.0013,0.00158,0.00193,0.00235,0.00287,0.00349,0.00425,0.00518,0.00631,0.00769,0.00936,0.01141,0.01389,0.1], dtype = np.float)\n",
    "\n",
    "percentages = ComputeNRBudget(nr_weights_l2, alphas_l2, nq)\n",
    "print(np.round(percentages, 1))\n",
    "hist_scatter(percentages, alphas_l2)"
   ]
  },
  {
   "cell_type": "code",
   "execution_count": null,
   "metadata": {},
   "outputs": [],
   "source": [
    "# nr_weights_l2 = np.load(\"/home/oem/Documents/chbank/cptp_l2_24_12_2020_00/physical/nrw_cptp_0.03_4_8_1.5.npy\").astype(int)[0]\n",
    "nr_weights_l3 = np.random.randint(0, high=nq, size=(4**nq,))\n",
    "alphas_l2 = [0,0.0001,0.00012,0.00015,0.00018,0.00022,0.00027,0.00033,0.0004,0.00048,0.00059,0.00072,0.00088,0.00107,0.0013,0.00158,0.00193,0.00235,0.00287,0.00349,0.00425,0.00518,0.00631,0.00769,0.00936,0.01141,0.01389,0.01693,0.02062,0.02512,0.0306,0.03728,0.04541,0.05532,0.06739,0.08209,0.1]\n",
    "\n",
    "# percentages = get_percentages(nr_weights_l3, alphas_l3, nq)\n",
    "# print(\"percentages\\n{}\".format(percentages))\n",
    "\n",
    "hist_scatter(percentages, np.array(alphas_l3, dtype = np.float))"
   ]
  }
 ],
 "metadata": {
  "kernelspec": {
   "display_name": "Python 3",
   "language": "python",
   "name": "python3"
  },
  "language_info": {
   "codemirror_mode": {
    "name": "ipython",
    "version": 3
   },
   "file_extension": ".py",
   "mimetype": "text/x-python",
   "name": "python",
   "nbconvert_exporter": "python",
   "pygments_lexer": "ipython3",
   "version": "3.7.9"
  }
 },
 "nbformat": 4,
 "nbformat_minor": 4
}
