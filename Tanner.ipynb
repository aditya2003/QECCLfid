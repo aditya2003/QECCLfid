{
 "cells": [
  {
   "cell_type": "code",
   "execution_count": 3,
   "metadata": {},
   "outputs": [],
   "source": [
    "import numpy as np\n",
    "import matplotlib.pyplot as plt"
   ]
  },
  {
   "cell_type": "code",
   "execution_count": 4,
   "metadata": {},
   "outputs": [],
   "source": [
    "def tanner_graph(interaction_range, nq):\n",
    "    colors = ['b', 'g', 'r', 'c', 'm', 'y', 'k']\n",
    "    \n",
    "    nmaps = len(interaction_range)\n",
    "    lateral_shift_maps = 0\n",
    "    lateral_shift_qubits = 0\n",
    "    if(nmaps > nq):\n",
    "        lateral_shift_qubits += (nmaps-nq)/2\n",
    "    else:\n",
    "        lateral_shift_maps += (nq-nmaps)/2\n",
    "        \n",
    "    xmaps = [ lateral_shift_maps+i for i in range(nmaps)]\n",
    "    ymaps = [0.4 for __ in range(nmaps)]\n",
    "    for i in range(nmaps):\n",
    "        plt.annotate(\"$\\mathcal{E}_{%s}$\" %(str(i+1)),(xmaps[i] - 0.15, ymaps[i] + 0.04),fontsize = 14)\n",
    "        \n",
    "    xqubits = [ lateral_shift_qubits + i for i in range(nq)]\n",
    "    yqubits = [0 for __ in range(nq)]\n",
    "    for i in range(nq):\n",
    "        plt.annotate(\"$q_{%s}$\" %(str(i+1)),(xqubits[i] - 0.15, yqubits[i] - 0.05), fontsize = 14)\n",
    "        \n",
    "    plt.plot(xmaps, ymaps, linestyle = \"\", marker = \"s\", markersize = 15)\n",
    "    plt.plot(xqubits, yqubits, linestyle = \"\", marker = \"o\",  markersize = 15)\n",
    "    \n",
    "    for map_number in range(nmaps):\n",
    "        for q in interaction_range[map_number]:\n",
    "            plt.plot([xmaps[map_number], xqubits[q]],[ymaps[map_number]-0.02, yqubits[q]+0.02], color = colors[map_number%len(colors)])\n",
    "            \n",
    "    bottom, top = plt.ylim()\n",
    "    plt.ylim(bottom - 0.05,top + 0.05)\n",
    "    plt.axis('off')\n",
    "    plt.show()\n",
    "    "
   ]
  },
  {
   "cell_type": "code",
   "execution_count": 5,
   "metadata": {},
   "outputs": [
    {
     "data": {
      "image/png": "[encoded data removed]",
      "text/plain": [
       "<Figure size 432x288 with 1 Axes>"
      ]
     },
     "metadata": {
      "needs_background": "light"
     },
     "output_type": "display_data"
    }
   ],
   "source": [
    "interaction_range = [(1,2,3),(0,3),(4,6),(2,3,5,7),(6,)]\n",
    "nq = 8\n",
    "tanner_graph(interaction_range,nq)"
   ]
  },
  {
   "cell_type": "code",
   "execution_count": null,
   "metadata": {},
   "outputs": [],
   "source": []
  }
 ],
 "metadata": {
  "kernelspec": {
   "display_name": "Python 3",
   "language": "python",
   "name": "python3"
  },
  "language_info": {
   "codemirror_mode": {
    "name": "ipython",
    "version": 3
   },
   "file_extension": ".py",
   "mimetype": "text/x-python",
   "name": "python",
   "nbconvert_exporter": "python",
   "pygments_lexer": "ipython3",
   "version": "3.8.3"
  }
 },
 "nbformat": 4,
 "nbformat_minor": 4
}
