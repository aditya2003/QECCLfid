{
 "cells": [
  {
   "cell_type": "code",
   "execution_count": 48,
   "id": "dc51b386-8eba-42ee-9059-62c015ee41ca",
   "metadata": {},
   "outputs": [],
   "source": [
    "import numpy as np\n",
    "from ncon import ncon\n",
    "import cotengra as ctg"
   ]
  },
  {
   "cell_type": "code",
   "execution_count": 35,
   "id": "aeb1c79b-3736-40a4-8fba-41cb7030f8f3",
   "metadata": {},
   "outputs": [],
   "source": [
    "A = np.random.randn(2, 2, 2, 2)\n",
    "B = np.random.randn(2, 2)\n",
    "C = np.random.randn(2)"
   ]
  },
  {
   "cell_type": "code",
   "execution_count": 38,
   "id": "07901726-a689-4c39-9db4-b75e32a5779b",
   "metadata": {},
   "outputs": [],
   "source": [
    "C_np = np.einsum(A, (0,2,0,3), B, (3, 2), C, (1,))"
   ]
  },
  {
   "cell_type": "code",
   "execution_count": 39,
   "id": "df3c952e-7b1e-4fe2-bd7c-e3d585872a86",
   "metadata": {},
   "outputs": [
    {
     "data": {
      "text/plain": [
       "array([ 0.18898441, -0.85493847])"
      ]
     },
     "execution_count": 39,
     "metadata": {},
     "output_type": "execute_result"
    }
   ],
   "source": [
    "C_np"
   ]
  },
  {
   "cell_type": "code",
   "execution_count": 45,
   "id": "8835c53c-84bc-42ff-bdea-d32fd594f319",
   "metadata": {},
   "outputs": [],
   "source": [
    "C_ncon = ncon((A, B, C), ((1,3,1,4), (4,3), (-1,)), forder=[-1])"
   ]
  },
  {
   "cell_type": "code",
   "execution_count": 46,
   "id": "05d78f9d-082c-4932-a36b-4c8c4823c48f",
   "metadata": {},
   "outputs": [
    {
     "data": {
      "text/plain": [
       "array([ 0.18898441, -0.85493847])"
      ]
     },
     "execution_count": 46,
     "metadata": {},
     "output_type": "execute_result"
    }
   ],
   "source": [
    "C_ncon"
   ]
  },
  {
   "cell_type": "code",
   "execution_count": 61,
   "id": "d77e23e8-f7d6-41ec-91e5-0aaf4e7344a4",
   "metadata": {},
   "outputs": [],
   "source": [
    "contraction_schedule = [(0,2,0,3), (3, 2), (1,)]\n",
    "free_indices = [1]"
   ]
  },
  {
   "cell_type": "code",
   "execution_count": 69,
   "id": "f3d82e76-163c-4737-ad24-2590d59c80e5",
   "metadata": {},
   "outputs": [],
   "source": [
    "labels = list(map(ctg.get_symbol, np.unique([lab for interac in contraction_schedule for lab in interac] + free_indices)))\n",
    "inputs = [list(map(ctg.get_symbol, interac)) for interac in contraction_schedule]\n",
    "output = list(map(ctg.get_symbol, free_indices))"
   ]
  },
  {
   "cell_type": "code",
   "execution_count": 70,
   "id": "ee512cd0-a8d1-4c9a-9df3-fda90c256524",
   "metadata": {},
   "outputs": [
    {
     "data": {
      "text/plain": [
       "['a', 'b', 'c', 'd']"
      ]
     },
     "execution_count": 70,
     "metadata": {},
     "output_type": "execute_result"
    }
   ],
   "source": [
    "labels"
   ]
  },
  {
   "cell_type": "code",
   "execution_count": 65,
   "id": "fc5b5e54-eea2-4a70-bae6-134ee98098cb",
   "metadata": {},
   "outputs": [],
   "source": [
    "opt = ctg.HyperOptimizer()"
   ]
  },
  {
   "cell_type": "code",
   "execution_count": 73,
   "id": "fa825c68-ba83-4b8f-b837-4692c7fbe06d",
   "metadata": {},
   "outputs": [],
   "source": [
    "tree = opt.search(inputs, output, size_dict)"
   ]
  },
  {
   "cell_type": "code",
   "execution_count": 75,
   "id": "12311dec-f499-4563-b7a9-952c518e50f7",
   "metadata": {},
   "outputs": [
    {
     "data": {
      "text/plain": [
       "array([ 0.18898441, -0.85493847])"
      ]
     },
     "execution_count": 75,
     "metadata": {},
     "output_type": "execute_result"
    }
   ],
   "source": [
    "tree.contract([A,B,C])"
   ]
  },
  {
   "cell_type": "code",
   "execution_count": 77,
   "id": "7527652c-d3b5-43a5-ad2c-29204288f267",
   "metadata": {},
   "outputs": [],
   "source": [
    "operators = [A, B, C]"
   ]
  },
  {
   "cell_type": "code",
   "execution_count": 85,
   "id": "31921607-5475-4b42-ba0e-8138393d9f2b",
   "metadata": {},
   "outputs": [
    {
     "ename": "NameError",
     "evalue": "name 'contraction_schedule_ncon' is not defined",
     "output_type": "error",
     "traceback": [
      "\u001b[0;31m---------------------------------------------------------------------------\u001b[0m",
      "\u001b[0;31mNameError\u001b[0m                                 Traceback (most recent call last)",
      "Cell \u001b[0;32mIn[85], line 2\u001b[0m\n\u001b[1;32m      1\u001b[0m size_dict \u001b[38;5;241m=\u001b[39m {}\n\u001b[0;32m----> 2\u001b[0m \u001b[38;5;28;01mfor\u001b[39;00m (i, interac) \u001b[38;5;129;01min\u001b[39;00m \u001b[38;5;28menumerate\u001b[39m(\u001b[43mcontraction_schedule_ncon\u001b[49m):\n\u001b[1;32m      3\u001b[0m     \u001b[38;5;28;01mfor\u001b[39;00m a \u001b[38;5;129;01min\u001b[39;00m \u001b[38;5;28mrange\u001b[39m(\u001b[38;5;28mlen\u001b[39m(interac)):\n\u001b[1;32m      4\u001b[0m         size_dict[ctg\u001b[38;5;241m.\u001b[39mget_symbol(interac[a])] \u001b[38;5;241m=\u001b[39m operators[i]\u001b[38;5;241m.\u001b[39mshape[a]\n",
      "\u001b[0;31mNameError\u001b[0m: name 'contraction_schedule_ncon' is not defined"
     ]
    }
   ],
   "source": [
    "size_dict = {}\n",
    "for (i, interac) in enumerate(contraction_schedule_ncon):\n",
    "    for a in range(len(interac)):\n",
    "        size_dict[ctg.get_symbol(interac[a])] = operators[i].shape[a]"
   ]
  },
  {
   "cell_type": "code",
   "execution_count": 84,
   "id": "3751407f-5bed-4156-9481-c485efa93af8",
   "metadata": {},
   "outputs": [
    {
     "data": {
      "text/plain": [
       "{'a': 2, 'c': 2, 'd': 2, 'b': 2}"
      ]
     },
     "execution_count": 84,
     "metadata": {},
     "output_type": "execute_result"
    }
   ],
   "source": [
    "size_dict"
   ]
  },
  {
   "cell_type": "code",
   "execution_count": null,
   "id": "6c7430fc-a5fe-4549-8be7-376207bfbdcd",
   "metadata": {},
   "outputs": [],
   "source": []
  }
 ],
 "metadata": {
  "kernelspec": {
   "display_name": "Python 3 (ipykernel)",
   "language": "python",
   "name": "python3"
  },
  "language_info": {
   "codemirror_mode": {
    "name": "ipython",
    "version": 3
   },
   "file_extension": ".py",
   "mimetype": "text/x-python",
   "name": "python",
   "nbconvert_exporter": "python",
   "pygments_lexer": "ipython3",
   "version": "3.10.12"
  }
 },
 "nbformat": 4,
 "nbformat_minor": 5
}
