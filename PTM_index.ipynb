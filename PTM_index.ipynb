{
 "cells": [
  {
   "cell_type": "code",
   "execution_count": null,
   "metadata": {},
   "outputs": [],
   "source": [
    "import numpy as np\n",
    "from scipy.stats import unitary_group\n",
    "from collections import deque"
   ]
  },
  {
   "cell_type": "code",
   "execution_count": null,
   "metadata": {},
   "outputs": [],
   "source": [
    "def Dagger(x):\n",
    "    return np.conj(np.transpose(x))\n",
    "def Kron(*mats):\n",
    "    \"\"\"\n",
    "    Extend the standard Kronecker product, to a list of matrices, where the Kronecker product is recursively taken from left to right.\n",
    "    \"\"\"\n",
    "    if len(mats) < 2:\n",
    "        return mats[0]\n",
    "    return np.kron(mats[0], Kron(*(mats[1:])))\n",
    "def circular_shift(li,start,end,direction=\"right\"):\n",
    "    r\"\"\"\n",
    "    Circular shifts a part of the list `li` between start and end indices\n",
    "    \"\"\"\n",
    "    d = deque(li[start:end+1])\n",
    "    if(direction==\"right\"):\n",
    "        d.rotate(1)\n",
    "    else:\n",
    "        d.rotate(-1)\n",
    "    return li[:start] + list(d) + li[end+1:]\n"
   ]
  },
  {
   "cell_type": "code",
   "execution_count": 391,
   "metadata": {},
   "outputs": [],
   "source": [
    "def fix_index_after_tensor(tensor,indices_changed):\n",
    "    r\"\"\"\n",
    "    Tensor product alters the order of indices. This function helps reorder to fix them back. \n",
    "    \"\"\"\n",
    "    n = len(tensor.shape)-1\n",
    "    perm_list = list(range(len(tensor.shape)))\n",
    "    n_changed = len(indices_changed)\n",
    "#     print(\"Fixing indices order: \", indices_changed)\n",
    "    for i in range(len(indices_changed)):\n",
    "        index = indices_changed[i]\n",
    "        perm_list = circular_shift(perm_list,index,n-n_changed+i+1,\"right\")\n",
    "#         print(perm_list)\n",
    "    return(np.transpose(tensor,perm_list))\n",
    "\n",
    "    "
   ]
  },
  {
   "cell_type": "code",
   "execution_count": 405,
   "metadata": {},
   "outputs": [],
   "source": [
    "def get_PTMelem_ij(krausdict,Pi,Pj,n_qubits):\n",
    "    r\"\"\"\n",
    "    Assumes Paulis Pi,Pj to be a tensor on n_qubits\n",
    "    Calculates Tr(Pj Eps(Pi))\n",
    "    \n",
    "    Assumes qubits\n",
    "    Assumes kraus ops to be square with dim 2**(n_qubits in support)\n",
    "    \"\"\"\n",
    "    for key,val in krausdict.items():\n",
    "        indices = key + tuple(map(lambda x:x+n_qubits,key))\n",
    "        for kraus in val:\n",
    "            kraus_reshape_dims = [2]*(2*int(np.log2(kraus.shape[0])))\n",
    "            indices_Pi = indices[len(indices)//2:] \n",
    "            indices_kraus = range(len(kraus_reshape_dims)//2)\n",
    "            Pi = np.tensordot(Pi,Dagger(kraus).reshape(kraus_reshape_dims),(indices_Pi,indices_kraus))\n",
    "            Pi = fix_index_after_tensor(Pi,indices_Pi)\n",
    "            indices_Pi = indices[:len(indices)//2]\n",
    "            indices_kraus = range(len(kraus_reshape_dims))[len(kraus_reshape_dims)//2:]\n",
    "            Pi = np.tensordot(Pi,kraus.reshape(kraus_reshape_dims),(indices_Pi,indices_kraus))\n",
    "            Pi = fix_index_after_tensor(Pi,indices_Pi)\n",
    "        # take dot product with Pj and trace\n",
    "        indices_Pi = indices[len(indices)//2:] \n",
    "        indices_Pj = indices[:len(indices)//2]\n",
    "        Pi_times_Pj = np.tensordot(Pi,Pj,(indices_Pi,indices_Pi))\n",
    "        # Take trace\n",
    "        einsum_inds = list(range(len(Pi_times_Pj.shape)//2))+list(range(len(Pi_times_Pj.shape)//2))\n",
    "        trace_val = np.einsum(Pi_times_Pj,einsum_inds)\n",
    "    return trace_val\n",
    "    \n",
    "    "
   ]
  },
  {
   "cell_type": "code",
   "execution_count": 411,
   "metadata": {},
   "outputs": [
    {
     "name": "stdout",
     "output_type": "stream",
     "text": [
      "(16+0j)\n"
     ]
    }
   ],
   "source": [
    "n_qubits = 4\n",
    "Pi = Kron(*[np.eye(2)]*nqubits)\n",
    "Pi = Pi.reshape([2]*(2*int(np.log2(Pi.shape[0]))))\n",
    "Pj = Pi\n",
    "theta = 0.2\n",
    "Sztheta = [[np.exp(1j*theta),0],[0,np.exp(-1j*theta)]]\n",
    "Uprime = Kron(Sztheta,Sztheta)\n",
    "#Kraus dict has the format (\"support\": list of kraus ops on the support)\n",
    "krausdict = {(0,1):[Uprime,Uprime],(1,2):[Uprime]}\n",
    "PTMij = get_PTMelem_ij(krausdict,Pi,Pj,n_qubits)\n",
    "print(PTMij)"
   ]
  },
  {
   "cell_type": "code",
   "execution_count": null,
   "metadata": {},
   "outputs": [],
   "source": []
  }
 ],
 "metadata": {
  "kernelspec": {
   "display_name": "Python 3",
   "language": "python",
   "name": "python3"
  },
  "language_info": {
   "codemirror_mode": {
    "name": "ipython",
    "version": 3
   },
   "file_extension": ".py",
   "mimetype": "text/x-python",
   "name": "python",
   "nbconvert_exporter": "python",
   "pygments_lexer": "ipython3",
   "version": "3.7.3"
  }
 },
 "nbformat": 4,
 "nbformat_minor": 2
}
