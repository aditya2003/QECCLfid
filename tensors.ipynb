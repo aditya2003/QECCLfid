{
 "cells": [
  {
   "cell_type": "code",
   "execution_count": 20,
   "metadata": {},
   "outputs": [],
   "source": [
    "import numpy as np\n",
    "import string\n",
    "from timeit import default_timer as timer\n",
    "#from utils import Kron"
   ]
  },
  {
   "cell_type": "code",
   "execution_count": 2,
   "metadata": {},
   "outputs": [],
   "source": [
    "def TupleToString(tup):\n",
    "    # Convert a tuple to a string where each number is assigned to its string form.\n",
    "    return \"\".join(list(map(lambda i: string.printable[10 + i], tup)))"
   ]
  },
  {
   "cell_type": "code",
   "execution_count": 3,
   "metadata": {},
   "outputs": [],
   "source": [
    "def YieldScalar(tndict):\n",
    "    # Check if contracting all the tensors in the dictionary yields a scalar.\n",
    "    supports = np.array([np.array(list(support), dtype = np.int64) for (support, __) in tndict], dtype = np.int64).flatten()\n",
    "    #print(\"supports = {}\".format(supports))\n",
    "    visited = np.zeros(supports.shape[0], dtype = np.int64)\n",
    "    for i in range(supports.size):\n",
    "        not_scalar = 1\n",
    "        for j in range(supports.size):\n",
    "            if (i != j):\n",
    "                if (supports[i] == supports[j]):\n",
    "                    not_scalar = 0\n",
    "                    #print(\"Comparing support[%d] = %d and support[%d] = %d.\" % (i, supports[i], j, supports[j])) \n",
    "    scalar = 1 - not_scalar\n",
    "    return scalar"
   ]
  },
  {
   "cell_type": "code",
   "execution_count": 4,
   "metadata": {},
   "outputs": [
    {
     "data": {
      "text/plain": [
       "'\\ndef TensorTrace(tndict, opt = \"greedy\"):\\n    # Contract a set of tensors provided as a dictionary.\\n    # The result of the traction must be a number, in other words, there should be no free indices.\\n    if (YieldScalar(tndict) == 0):\\n        print(\"The Tensor contraction does not result in a trace.\")\\n        return None\\n    # We want to use np.einsum(...) to perform the Tensor contraction.\\n    # Every element of the input dictionary is a tuple, containing the support of a tensor and its operator form.\\n    # Numpy\\'s einsum function simply needs the Tensors and the corresponding labels associated to its indices.\\n    # We will convert the support of each Tensor to a string, that serves as its label.\\n    scheme = \",\".join([TupleToString(support) for (support, __) in tndict])\\n    print(\"Contraction scheme: {}\".format(scheme))\\n    ops = [op for (__, op) in tndict]\\n    ops_args = \", \".join([(\"ops[%d]\" % d) for d in range(len(ops))])\\n    print(\"np.einsum_path(\\'%s->\\', %s, optimize=\\'%s\\')\" % (scheme, ops_args, opt))\\n    path = eval(\"np.einsum_path(\\'%s->\\', %s, optimize=\\'%s\\')\" % (scheme, ops_args, opt))\\n    print(\"Contraction process\\n{}: {}\\n{}\".format(path[0][0], path[0][1:], path[1]))\\n    trace = np.einsum(scheme, *ops, optimize=path[0])\\n    #print(\"Trace = {}.\".format(trace))\\n    return trace\\n'"
      ]
     },
     "execution_count": 4,
     "metadata": {},
     "output_type": "execute_result"
    }
   ],
   "source": [
    "\"\"\"\n",
    "def TensorTrace(tndict, opt = \"greedy\"):\n",
    "    # Contract a set of tensors provided as a dictionary.\n",
    "    # The result of the traction must be a number, in other words, there should be no free indices.\n",
    "    if (YieldScalar(tndict) == 0):\n",
    "        print(\"The Tensor contraction does not result in a trace.\")\n",
    "        return None\n",
    "    # We want to use np.einsum(...) to perform the Tensor contraction.\n",
    "    # Every element of the input dictionary is a tuple, containing the support of a tensor and its operator form.\n",
    "    # Numpy's einsum function simply needs the Tensors and the corresponding labels associated to its indices.\n",
    "    # We will convert the support of each Tensor to a string, that serves as its label.\n",
    "    scheme = \",\".join([TupleToString(support) for (support, __) in tndict])\n",
    "    print(\"Contraction scheme: {}\".format(scheme))\n",
    "    ops = [op for (__, op) in tndict]\n",
    "    ops_args = \", \".join([(\"ops[%d]\" % d) for d in range(len(ops))])\n",
    "    print(\"np.einsum_path(\\'%s->\\', %s, optimize=\\'%s\\')\" % (scheme, ops_args, opt))\n",
    "    path = eval(\"np.einsum_path(\\'%s->\\', %s, optimize=\\'%s\\')\" % (scheme, ops_args, opt))\n",
    "    print(\"Contraction process\\n{}: {}\\n{}\".format(path[0][0], path[0][1:], path[1]))\n",
    "    trace = np.einsum(scheme, *ops, optimize=path[0])\n",
    "    #print(\"Trace = {}.\".format(trace))\n",
    "    return trace\n",
    "\"\"\""
   ]
  },
  {
   "cell_type": "code",
   "execution_count": 5,
   "metadata": {},
   "outputs": [
    {
     "name": "stdout",
     "output_type": "stream",
     "text": [
      "[(0, 1, 2, 3), (2, 3, 4, 5), (4, 5, 6, 7), (6, 7, 8, 9), (8, 9, 10, 11), (10, 11, 12, 13), (12, 13, 14, 15), (14, 15, 16, 17), (16, 17, 18, 19), (18, 19, 20, 21), (20, 21, 22, 23), (22, 23, 0, 1)]\n"
     ]
    }
   ],
   "source": [
    "N = 24\n",
    "dims = 4\n",
    "bond = 4\n",
    "# create some numpy tensors\n",
    "tensors = [np.random.rand(*[bond]*dims) for __ in range(0, N, 2)]\n",
    "# labels should ensure that there is no free index.\n",
    "labels = [tuple([(i + j) % N for j in range(4)]) for i in range(0, N, 2)]\n",
    "print(labels)\n",
    "# Prepare the dictionary.\n",
    "tndict = [(labels[i], tensors[i]) for i in range(len(labels))]\n",
    "#print([tnop for (lab, tnop) in tndict])"
   ]
  },
  {
   "cell_type": "code",
   "execution_count": 6,
   "metadata": {
    "scrolled": true
   },
   "outputs": [],
   "source": [
    "# trace = TensorTrace(tndict, opt=\"greedy\")\n",
    "# print(\"Trace = {}.\".format(trace))"
   ]
  },
  {
   "cell_type": "code",
   "execution_count": 21,
   "metadata": {},
   "outputs": [],
   "source": [
    "def OptimalEinsum(scheme, ops, opt = \"greedy\", verbose=0):\n",
    "\t# Contract a tensor network using einsum supplemented with its optimization tools.\n",
    "\tops_args = \", \".join([(\"ops[%d]\" % d) for d in range(len(ops))])\n",
    "\t#print(\"Calling np.einsum({}, {})\\nwhere shapes are\\n{}.\".format(scheme, ops_args, [op.shape for op in ops]))\n",
    "\tstart = timer()\n",
    "\tpath = eval(\"np.einsum_path(\\'%s\\', %s, optimize=\\'%s\\')\" % (scheme, ops_args, opt))\n",
    "\tif verbose == 1:\n",
    "\t\tprint(\"Contraction process\\n{}: {}\\n{}\".format(path[0][0], path[0][1:], path[1]))\n",
    "\tprod = np.einsum(scheme, *ops, optimize=path[0])\n",
    "\t# tfops = [tf.convert_to_tensor(op) for op in ops]\n",
    "\t# prod = tf.einsum(scheme, *tfops, optimize=opt)\n",
    "\tend = timer()\n",
    "\tif verbose == 1:\n",
    "\t\tprint(\"Einsum({}, {})\\nwhere shapes are\\n{}\\ntook {} seconds.\".format(scheme, ops_args, [op.shape for op in ops], int(end - start)))\n",
    "\treturn prod"
   ]
  },
  {
   "cell_type": "code",
   "execution_count": 6,
   "metadata": {},
   "outputs": [],
   "source": [
    "def TensorTranspose(tensor):\n",
    "    # Transpose the tensor, in other words, exchange its row and column indices.\n",
    "    # Note that when we reshape a matrix into (D, D, ..., D) tensor, it stores the indices as as\n",
    "    # row_1, row_2, row_3, ..., row_(D/2), col_1, ..., col_(D/2).\n",
    "    rows = range(0, tensor.ndim//2)\n",
    "    cols = range(tensor.ndim//2, tensor.ndim)\n",
    "    tp_indices = np.concatenate((cols, rows))\n",
    "    return np.transpose(tensor, tp_indices)"
   ]
  },
  {
   "cell_type": "code",
   "execution_count": 7,
   "metadata": {},
   "outputs": [
    {
     "name": "stdout",
     "output_type": "stream",
     "text": [
      "A ?= A.T is True\n"
     ]
    }
   ],
   "source": [
    "# Testing TensorTranspose\n",
    "nq = 2\n",
    "tensor = np.reshape(np.random.rand(2**nq, 2**nq), [2, 2]*nq)\n",
    "tp_tensor = TensorTranspose(tensor)\n",
    "#print(\"tensor\\n{}\\nand its transpose\\n{}\".format(tensor.reshape(2**dims, 2**dims), tp_tensor.reshape(2**dims, 2**dims)))\n",
    "print(\"A ?= A.T is {}\".format(np.allclose(tensor.reshape(2**nq, 2**nq), tp_tensor.reshape(2**nq, 2**nq).T)))"
   ]
  },
  {
   "cell_type": "code",
   "execution_count": 8,
   "metadata": {},
   "outputs": [],
   "source": [
    "def GetNQubitPauli(ind, nq):\n",
    "    # Compute the n-qubit Pauli that is at position 'i' in an ordering based on [I, X, Y, Z].\n",
    "    # We will express the input number in base 4^n - 1.\n",
    "    pauli = np.zeros(nq, dtype = np.int64)\n",
    "    for i in range(nq):\n",
    "        pauli[i] = ind % 4\n",
    "        ind = int(ind//4)\n",
    "    return pauli"
   ]
  },
  {
   "cell_type": "code",
   "execution_count": 9,
   "metadata": {},
   "outputs": [
    {
     "data": {
      "text/plain": [
       "array([0, 3, 2, 2])"
      ]
     },
     "execution_count": 9,
     "metadata": {},
     "output_type": "execute_result"
    }
   ],
   "source": [
    "# Testing GetNQubitPauli\n",
    "GetNQubitPauli(172, 4)"
   ]
  },
  {
   "cell_type": "code",
   "execution_count": 22,
   "metadata": {},
   "outputs": [],
   "source": [
    "def TensorKron(tn1, tn2):\n",
    "    # Compute the Kronecker product of two tensors A and B.\n",
    "    # This is not equal to np.tensordot(A, B, axis = 0), see: https://stackoverflow.com/questions/52125078/why-does-tensordot-reshape-not-agree-with-kron.\n",
    "    # Note that when we reshape a matrix into (D, D, ..., D) tensor, it stores the indices as as\n",
    "    # row_1, row_2, row_3, ..., row_(D/2), col_1, ..., col_(D/2).\n",
    "    # We will implement Kronecker product using einsum, as\n",
    "    # np.einsum('rA1 rA2 .. rAn, cA1 cA2 .. cAn, rB1 rB2 .. rBn, cB1 cB2 .. cBn -> rA1 rB1 rA2 rB2 .. rAn rBn, cA1 cB1 cA2 cB2 .. cAn cBn', A, B).\n",
    "    if (tn1.ndim != tn2.ndim):\n",
    "        print(\"TensorKron does not work presently for tensors of different dimensions.\")\n",
    "        return None\n",
    "    tn1_rows = [string.printable[10 + i] for i in range(tn1.ndim//2)]\n",
    "    tn1_cols = [string.printable[10 + i] for i in range(tn1.ndim//2, tn1.ndim)]\n",
    "    tn2_rows = [string.printable[10 + tn1.ndim + i] for i in range(tn2.ndim//2)]\n",
    "    tn2_cols = [string.printable[10 + tn1.ndim + i] for i in range(tn2.ndim//2, tn2.ndim)]\n",
    "    #kron_inds = [\"%s%s\" % (tn1_rows[i], tn2_rows[i]) for i in range(tn1.ndim//2)]\n",
    "    #kron_inds += [\"%s%s\" % (tn1_cols[i], tn2_cols[i]) for i in range(tn1.ndim//2)]\n",
    "    kron_inds = [\"%s\" % (tn1_rows[i]) for i in range(tn1.ndim//2)]\n",
    "    kron_inds += [\"%s\" % (tn2_rows[i]) for i in range(tn1.ndim//2)]\n",
    "    kron_inds += [\"%s\" % (tn1_cols[i]) for i in range(tn1.ndim//2)]\n",
    "    kron_inds += [\"%s\" % (tn2_cols[i]) for i in range(tn1.ndim//2)]\n",
    "    scheme = (\"%s%s,%s%s->%s\" % (\"\".join(tn1_rows), \"\".join(tn1_cols), \"\".join(tn2_rows), \"\".join(tn2_cols), \"\".join(kron_inds)))\n",
    "    return OptimalEinsum(scheme, [tn1, tn2], opt = \"greedy\")"
   ]
  },
  {
   "cell_type": "code",
   "execution_count": 13,
   "metadata": {},
   "outputs": [
    {
     "name": "stdout",
     "output_type": "stream",
     "text": [
      "TensorKron(A, B) ?= A o B is True\n"
     ]
    }
   ],
   "source": [
    "# Testing TensorKron\n",
    "nq = 4\n",
    "tn1 = np.reshape(np.random.rand(2**nq, 2**nq), [2, 2]*nq)\n",
    "tn2 = np.reshape(np.random.rand(2**nq, 2**nq), [2, 2]*nq)\n",
    "kn_tensor = TensorKron(tn1, tn2)\n",
    "#print(\"A\\n{}\\nB\\n{}\\nA o B = \\n{}\".format(tn1.reshape(2**nq, 2**nq), tn2.reshape(2**nq, 2**nq), kn_tensor.reshape(4**nq, 4**nq)))\n",
    "print(\"TensorKron(A, B) ?= A o B is {}\".format(np.allclose(kn_tensor.reshape(4**nq, 4**nq), np.kron(tn1.reshape(2**nq, 2**nq), tn2.reshape(2**nq, 2**nq)))))"
   ]
  },
  {
   "cell_type": "code",
   "execution_count": 14,
   "metadata": {},
   "outputs": [],
   "source": [
    "def TraceDot(tn1, tn2):\n",
    "    # Compute the trace of the dot product of two tensors A and B.\n",
    "    # If the indices of A are i_0 i_1, ..., i_(2n-1) and that of B are j_0 j_1 ... j_(2n-1)\n",
    "    # then want to contract the indices i_(2k) with j_(2k+1), for all k in [0, n-1].\n",
    "    # While calling np.einsum, we need to ensure that the row index of A is equal to the column index of B.\n",
    "    # Additionally to ensure that we have a trace, we need to match the row and column indices of the product.\n",
    "    tn1_rows = [string.printable[10 + i] for i in range(tn1.ndim//2)]\n",
    "    tn1_cols = [string.printable[10 + i] for i in range(tn1.ndim//2, tn1.ndim)]\n",
    "    # The column indices of tn1 should match row indices of tn2\n",
    "    # So, tn1_cols = tn2_rows.\n",
    "    # the row and column indices of the product must match\n",
    "    # So, tn1_rows = tn2_cols.\n",
    "    scheme = (\"%s%s,%s%s->\" % (\"\".join(tn1_rows), \"\".join(tn1_cols), \"\".join(tn1_cols), \"\".join(tn1_rows)))\n",
    "    return OptimalEinsum(scheme, [tn1, tn2], opt = \"greedy\")"
   ]
  },
  {
   "cell_type": "code",
   "execution_count": 15,
   "metadata": {},
   "outputs": [
    {
     "name": "stdout",
     "output_type": "stream",
     "text": [
      "TraceDot(A, B) ?= Tr(A . B) is True.\n"
     ]
    }
   ],
   "source": [
    "# Testing TraceDot\n",
    "nq = 5\n",
    "tn1 = np.reshape(np.random.rand(2**nq, 2**nq), [2, 2]*nq)\n",
    "tn2 = np.reshape(np.random.rand(2**nq, 2**nq), [2, 2]*nq)\n",
    "trdot = TraceDot(tn1, tn2)\n",
    "nptr = np.trace(np.dot(tn1.reshape(2**nq, 2**nq), tn2.reshape(2**nq, 2**nq)))\n",
    "#print(\"A\\n{}\\nB\\n{}\\nTr(A . B) = \\n{}\".format(tn1.reshape(2**nq, 2**nq), tn2.reshape(2**nq, 2**nq), trdot))\n",
    "#print(\"TensorTrace = {}\\nNumpy Trace = {}\".format(trdot, nptr))\n",
    "print(\"TraceDot(A, B) ?= Tr(A . B) is {}.\".format(np.allclose(trdot, nptr)))"
   ]
  },
  {
   "cell_type": "code",
   "execution_count": 10,
   "metadata": {},
   "outputs": [],
   "source": [
    "def PauliTensor(pauli_op):\n",
    "    # Convert a Pauli in operator form to a tensor.\n",
    "    # The tensor product of A B .. Z is given by simply putting the rows indices of A, B, ..., Z together, followed by their column indices.\n",
    "    # Each qubit index q can be assigned a pair of labels for the row and columns of the Pauli matrix on q: C[2q], C[2q + 1].\n",
    "    # Pauli matrices\n",
    "    characters = string.printable[10:]\n",
    "    # replace the following line with the variable from globalvars.py\n",
    "    Pauli = np.array([[[1, 0], [0, 1]], [[0, 1], [1, 0]], [[0, -1j], [1j, 0]], [[1, 0], [0, -1]]], dtype=np.complex128)\n",
    "    nq = pauli_op.shape[0]\n",
    "    labels = \",\".join([\"%s%s\" % (characters[2 * q], characters[2 * q + 1]) for q in range(nq)])\n",
    "    ops = [Pauli[pauli_op[q], :, :] for q in range(nq)]\n",
    "    kn_indices = [\"%s\" % (characters[2 * q]) for q in range(nq)]\n",
    "    kn_indices += [\"%s\" % (characters[2 * q + 1]) for q in range(nq)]\n",
    "    kn_label = \"\".join(kn_indices)\n",
    "    scheme = \"%s->%s\" % (labels, kn_label)\n",
    "    pauli_tensor = OptimalEinsum(scheme, ops)\n",
    "    return pauli_tensor\n",
    "    "
   ]
  },
  {
   "cell_type": "code",
   "execution_count": 11,
   "metadata": {},
   "outputs": [
    {
     "name": "stdout",
     "output_type": "stream",
     "text": [
      "Pauli operator: [0 3 0]\n"
     ]
    },
    {
     "ename": "NameError",
     "evalue": "name 'Kron' is not defined",
     "output_type": "error",
     "traceback": [
      "\u001b[0;31m---------------------------------------------------------------------------\u001b[0m",
      "\u001b[0;31mNameError\u001b[0m                                 Traceback (most recent call last)",
      "\u001b[0;32m<ipython-input-11-617ee6704cbc>\u001b[0m in \u001b[0;36m<module>\u001b[0;34m\u001b[0m\n\u001b[1;32m      4\u001b[0m \u001b[0mtn_pauli\u001b[0m \u001b[0;34m=\u001b[0m \u001b[0mPauliTensor\u001b[0m\u001b[0;34m(\u001b[0m\u001b[0mpauli_op\u001b[0m\u001b[0;34m)\u001b[0m\u001b[0;34m\u001b[0m\u001b[0;34m\u001b[0m\u001b[0m\n\u001b[1;32m      5\u001b[0m \u001b[0mPauli\u001b[0m \u001b[0;34m=\u001b[0m \u001b[0mnp\u001b[0m\u001b[0;34m.\u001b[0m\u001b[0marray\u001b[0m\u001b[0;34m(\u001b[0m\u001b[0;34m[\u001b[0m\u001b[0;34m[\u001b[0m\u001b[0;34m[\u001b[0m\u001b[0;36m1\u001b[0m\u001b[0;34m,\u001b[0m \u001b[0;36m0\u001b[0m\u001b[0;34m]\u001b[0m\u001b[0;34m,\u001b[0m \u001b[0;34m[\u001b[0m\u001b[0;36m0\u001b[0m\u001b[0;34m,\u001b[0m \u001b[0;36m1\u001b[0m\u001b[0;34m]\u001b[0m\u001b[0;34m]\u001b[0m\u001b[0;34m,\u001b[0m \u001b[0;34m[\u001b[0m\u001b[0;34m[\u001b[0m\u001b[0;36m0\u001b[0m\u001b[0;34m,\u001b[0m \u001b[0;36m1\u001b[0m\u001b[0;34m]\u001b[0m\u001b[0;34m,\u001b[0m \u001b[0;34m[\u001b[0m\u001b[0;36m1\u001b[0m\u001b[0;34m,\u001b[0m \u001b[0;36m0\u001b[0m\u001b[0;34m]\u001b[0m\u001b[0;34m]\u001b[0m\u001b[0;34m,\u001b[0m \u001b[0;34m[\u001b[0m\u001b[0;34m[\u001b[0m\u001b[0;36m0\u001b[0m\u001b[0;34m,\u001b[0m \u001b[0;34m-\u001b[0m\u001b[0;36m1j\u001b[0m\u001b[0;34m]\u001b[0m\u001b[0;34m,\u001b[0m \u001b[0;34m[\u001b[0m\u001b[0;36m1j\u001b[0m\u001b[0;34m,\u001b[0m \u001b[0;36m0\u001b[0m\u001b[0;34m]\u001b[0m\u001b[0;34m]\u001b[0m\u001b[0;34m,\u001b[0m \u001b[0;34m[\u001b[0m\u001b[0;34m[\u001b[0m\u001b[0;36m1\u001b[0m\u001b[0;34m,\u001b[0m \u001b[0;36m0\u001b[0m\u001b[0;34m]\u001b[0m\u001b[0;34m,\u001b[0m \u001b[0;34m[\u001b[0m\u001b[0;36m0\u001b[0m\u001b[0;34m,\u001b[0m \u001b[0;34m-\u001b[0m\u001b[0;36m1\u001b[0m\u001b[0;34m]\u001b[0m\u001b[0;34m]\u001b[0m\u001b[0;34m]\u001b[0m\u001b[0;34m,\u001b[0m \u001b[0mdtype\u001b[0m\u001b[0;34m=\u001b[0m\u001b[0mnp\u001b[0m\u001b[0;34m.\u001b[0m\u001b[0mcomplex128\u001b[0m\u001b[0;34m)\u001b[0m\u001b[0;34m\u001b[0m\u001b[0;34m\u001b[0m\u001b[0m\n\u001b[0;32m----> 6\u001b[0;31m \u001b[0mnp_pauli\u001b[0m \u001b[0;34m=\u001b[0m \u001b[0mKron\u001b[0m\u001b[0;34m(\u001b[0m\u001b[0;34m*\u001b[0m\u001b[0mPauli\u001b[0m\u001b[0;34m[\u001b[0m\u001b[0mpauli_op\u001b[0m\u001b[0;34m,\u001b[0m \u001b[0;34m:\u001b[0m\u001b[0;34m,\u001b[0m \u001b[0;34m:\u001b[0m\u001b[0;34m]\u001b[0m\u001b[0;34m)\u001b[0m\u001b[0;34m\u001b[0m\u001b[0;34m\u001b[0m\u001b[0m\n\u001b[0m\u001b[1;32m      7\u001b[0m \u001b[0mprint\u001b[0m\u001b[0;34m(\u001b[0m\u001b[0;34m\"PauliTensor - Numpy = {}\"\u001b[0m\u001b[0;34m.\u001b[0m\u001b[0mformat\u001b[0m\u001b[0;34m(\u001b[0m\u001b[0mnp\u001b[0m\u001b[0;34m.\u001b[0m\u001b[0mallclose\u001b[0m\u001b[0;34m(\u001b[0m\u001b[0mtn_pauli\u001b[0m\u001b[0;34m.\u001b[0m\u001b[0mreshape\u001b[0m\u001b[0;34m(\u001b[0m\u001b[0;36m2\u001b[0m\u001b[0;34m**\u001b[0m\u001b[0mN\u001b[0m\u001b[0;34m,\u001b[0m \u001b[0;36m2\u001b[0m\u001b[0;34m**\u001b[0m\u001b[0mN\u001b[0m\u001b[0;34m)\u001b[0m\u001b[0;34m,\u001b[0m \u001b[0mnp_pauli\u001b[0m\u001b[0;34m)\u001b[0m\u001b[0;34m)\u001b[0m\u001b[0;34m)\u001b[0m\u001b[0;34m\u001b[0m\u001b[0;34m\u001b[0m\u001b[0m\n",
      "\u001b[0;31mNameError\u001b[0m: name 'Kron' is not defined"
     ]
    }
   ],
   "source": [
    "N = 3\n",
    "pauli_op = np.random.randint(0, high=4, size=(N,))\n",
    "print(\"Pauli operator: {}\".format(pauli_op))\n",
    "tn_pauli = PauliTensor(pauli_op)\n",
    "Pauli = np.array([[[1, 0], [0, 1]], [[0, 1], [1, 0]], [[0, -1j], [1j, 0]], [[1, 0], [0, -1]]], dtype=np.complex128)\n",
    "np_pauli = Kron(*Pauli[pauli_op, :, :])\n",
    "print(\"PauliTensor - Numpy = {}\".format(np.allclose(tn_pauli.reshape(2**N, 2**N), np_pauli)))"
   ]
  },
  {
   "cell_type": "code",
   "execution_count": 12,
   "metadata": {},
   "outputs": [],
   "source": [
    "def KraussToTheta(kraus):\n",
    "    # Convert from the Kraus representation to the \"Theta\" representation.\n",
    "    # The \"Theta\" matrix T of a CPTP map whose chi-matrix is X is defined as:\n",
    "    # T_ij = \\sum_(ij) [ X_ij (P_i o (P_j)^T) ]\n",
    "    # Note that the chi matrix X can be defined using the Kraus matrices {K_k} in the following way\n",
    "    # X_ij = \\sum_k [ <P_i|K_k><K_k|P_j> ]\n",
    "    # \t   = \\sum_k [ Tr(P_i K_k) Tr((K_k)^\\dag P_j)]\n",
    "    # So we find that\n",
    "    # T = \\sum_(ij) [ \\sum_k [ Tr(P_i K_k) Tr((K_k)^\\dag P_j)] ] (P_i o (P_j)^T) ]\n",
    "    # We will store T as a Tensor with dimension = (2 * number of qubits) and bond dimension = 4.\n",
    "    nq = int(np.log2(kraus.shape[1]))\n",
    "    theta = np.zeros(tuple([4, 4]*nq), dtype = np.complex128)\n",
    "    for i in range(4**nq):\n",
    "        for j in range(4**nq):\n",
    "            Pi = PauliTensor(GetNQubitPauli(i, nq))\n",
    "            Pj = PauliTensor(GetNQubitPauli(j, nq))\n",
    "            PjT = TensorTranspose(Pj)\n",
    "            PioPjT = np.reshape(TensorKron(Pi, PjT), tuple([4, 4] * nq))\n",
    "            #print(\"Pi.shape = {}\\nPi\\n{}\".format(Pi.shape, Pi))\n",
    "            #print(\"Pj.shape = {}\\nPj\\n{}\".format(Pj.shape, Pj))\n",
    "            chi_ij = 0 + 0 * 1j\n",
    "            for k in range(kraus.shape[0]):\n",
    "                K = np.reshape(kraus[k, :, :], tuple([2, 2]*nq))\n",
    "                Kdag = np.conj(TensorTranspose(K))\n",
    "                #print(\"K.shape = {}\\nK\\n{}\".format(K.shape, K))\n",
    "                #print(\"TraceDot(K, Pi) = {}\".format(TraceDot(K, Pi)))\n",
    "                #print(\"Kdag.shape = {}\\nKdag\\n{}\".format(Kdag.shape, Kdag))\n",
    "                #print(\"Pj.shape = {}\\nPj\\n{}\".format(Pj.shape, Pj))\n",
    "                #print(\"TraceDot(Kdag, Pj) = {}\".format(TraceDot(K, Pj)))\n",
    "                chi_ij += TraceDot(Pi, K) * TraceDot(Pj, Kdag)\n",
    "            chi_ij /= 4**nq\n",
    "            #print(\"Chi[%d, %d] = %g + i %g\" % (i, j, np.real(coeff), np.imag(coeff)))\n",
    "            theta += chi_ij * PioPjT\n",
    "    return theta"
   ]
  },
  {
   "cell_type": "code",
   "execution_count": 13,
   "metadata": {},
   "outputs": [
    {
     "ename": "NameError",
     "evalue": "name 'TensorKron' is not defined",
     "output_type": "error",
     "traceback": [
      "\u001b[0;31m---------------------------------------------------------------------------\u001b[0m",
      "\u001b[0;31mNameError\u001b[0m                                 Traceback (most recent call last)",
      "\u001b[0;32m<ipython-input-13-f3dbf0cc6f22>\u001b[0m in \u001b[0;36m<module>\u001b[0;34m\u001b[0m\n\u001b[1;32m      7\u001b[0m \u001b[0;32mfor\u001b[0m \u001b[0mk\u001b[0m \u001b[0;32min\u001b[0m \u001b[0mrange\u001b[0m\u001b[0;34m(\u001b[0m\u001b[0;36m1\u001b[0m\u001b[0;34m,\u001b[0m \u001b[0;36m4\u001b[0m\u001b[0;34m)\u001b[0m\u001b[0;34m:\u001b[0m\u001b[0;34m\u001b[0m\u001b[0;34m\u001b[0m\u001b[0m\n\u001b[1;32m      8\u001b[0m     \u001b[0mkraus_dp\u001b[0m\u001b[0;34m[\u001b[0m\u001b[0mk\u001b[0m\u001b[0;34m,\u001b[0m \u001b[0;34m:\u001b[0m\u001b[0;34m,\u001b[0m \u001b[0;34m:\u001b[0m\u001b[0;34m]\u001b[0m \u001b[0;34m=\u001b[0m \u001b[0mnp\u001b[0m\u001b[0;34m.\u001b[0m\u001b[0msqrt\u001b[0m\u001b[0;34m(\u001b[0m\u001b[0mrate\u001b[0m\u001b[0;34m/\u001b[0m\u001b[0;36m3\u001b[0m\u001b[0;34m)\u001b[0m \u001b[0;34m*\u001b[0m \u001b[0mPauli\u001b[0m\u001b[0;34m[\u001b[0m\u001b[0mk\u001b[0m\u001b[0;34m,\u001b[0m \u001b[0;34m:\u001b[0m\u001b[0;34m,\u001b[0m \u001b[0;34m:\u001b[0m\u001b[0;34m]\u001b[0m\u001b[0;34m\u001b[0m\u001b[0;34m\u001b[0m\u001b[0m\n\u001b[0;32m----> 9\u001b[0;31m \u001b[0mtheta\u001b[0m \u001b[0;34m=\u001b[0m \u001b[0mKraussToTheta\u001b[0m\u001b[0;34m(\u001b[0m\u001b[0mkraus_dp\u001b[0m\u001b[0;34m)\u001b[0m\u001b[0;34m\u001b[0m\u001b[0;34m\u001b[0m\u001b[0m\n\u001b[0m\u001b[1;32m     10\u001b[0m \u001b[0mprint\u001b[0m\u001b[0;34m(\u001b[0m\u001b[0;34m\"Theta\\n{}\"\u001b[0m\u001b[0;34m.\u001b[0m\u001b[0mformat\u001b[0m\u001b[0;34m(\u001b[0m\u001b[0mtheta\u001b[0m\u001b[0;34m)\u001b[0m\u001b[0;34m)\u001b[0m\u001b[0;34m\u001b[0m\u001b[0;34m\u001b[0m\u001b[0m\n",
      "\u001b[0;32m<ipython-input-12-3b41145b21e3>\u001b[0m in \u001b[0;36mKraussToTheta\u001b[0;34m(kraus)\u001b[0m\n\u001b[1;32m     16\u001b[0m             \u001b[0mPj\u001b[0m \u001b[0;34m=\u001b[0m \u001b[0mPauliTensor\u001b[0m\u001b[0;34m(\u001b[0m\u001b[0mGetNQubitPauli\u001b[0m\u001b[0;34m(\u001b[0m\u001b[0mj\u001b[0m\u001b[0;34m,\u001b[0m \u001b[0mnq\u001b[0m\u001b[0;34m)\u001b[0m\u001b[0;34m)\u001b[0m\u001b[0;34m\u001b[0m\u001b[0;34m\u001b[0m\u001b[0m\n\u001b[1;32m     17\u001b[0m             \u001b[0mPjT\u001b[0m \u001b[0;34m=\u001b[0m \u001b[0mTensorTranspose\u001b[0m\u001b[0;34m(\u001b[0m\u001b[0mPj\u001b[0m\u001b[0;34m)\u001b[0m\u001b[0;34m\u001b[0m\u001b[0;34m\u001b[0m\u001b[0m\n\u001b[0;32m---> 18\u001b[0;31m             \u001b[0mPioPjT\u001b[0m \u001b[0;34m=\u001b[0m \u001b[0mnp\u001b[0m\u001b[0;34m.\u001b[0m\u001b[0mreshape\u001b[0m\u001b[0;34m(\u001b[0m\u001b[0mTensorKron\u001b[0m\u001b[0;34m(\u001b[0m\u001b[0mPi\u001b[0m\u001b[0;34m,\u001b[0m \u001b[0mPjT\u001b[0m\u001b[0;34m)\u001b[0m\u001b[0;34m,\u001b[0m \u001b[0mtuple\u001b[0m\u001b[0;34m(\u001b[0m\u001b[0;34m[\u001b[0m\u001b[0;36m4\u001b[0m\u001b[0;34m,\u001b[0m \u001b[0;36m4\u001b[0m\u001b[0;34m]\u001b[0m \u001b[0;34m*\u001b[0m \u001b[0mnq\u001b[0m\u001b[0;34m)\u001b[0m\u001b[0;34m)\u001b[0m\u001b[0;34m\u001b[0m\u001b[0;34m\u001b[0m\u001b[0m\n\u001b[0m\u001b[1;32m     19\u001b[0m             \u001b[0;31m#print(\"Pi.shape = {}\\nPi\\n{}\".format(Pi.shape, Pi))\u001b[0m\u001b[0;34m\u001b[0m\u001b[0;34m\u001b[0m\u001b[0;34m\u001b[0m\u001b[0m\n\u001b[1;32m     20\u001b[0m             \u001b[0;31m#print(\"Pj.shape = {}\\nPj\\n{}\".format(Pj.shape, Pj))\u001b[0m\u001b[0;34m\u001b[0m\u001b[0;34m\u001b[0m\u001b[0;34m\u001b[0m\u001b[0m\n",
      "\u001b[0;31mNameError\u001b[0m: name 'TensorKron' is not defined"
     ]
    }
   ],
   "source": [
    "# depolarizing channel\n",
    "N = 1\n",
    "Pauli = np.array([[[1, 0], [0, 1]], [[0, 1], [1, 0]], [[0, -1j], [1j, 0]], [[1, 0], [0, -1]]], dtype=np.complex128)\n",
    "kraus_dp = np.zeros((4**N, 2**N, 2**N), dtype = np.complex128)\n",
    "rate = 0.1\n",
    "kraus_dp[0, :, :] = np.sqrt(1 - rate) * Pauli[0, :, :]\n",
    "for k in range(1, 4):\n",
    "    kraus_dp[k, :, :] = np.sqrt(rate/3) * Pauli[k, :, :]\n",
    "theta = KraussToTheta(kraus_dp)\n",
    "print(\"Theta\\n{}\".format(theta))"
   ]
  },
  {
   "cell_type": "code",
   "execution_count": 14,
   "metadata": {},
   "outputs": [],
   "source": [
    "def SupportToLabel(supports, characters = None):\n",
    "    # Convert a list of qubit indices to labels for a tensor.\n",
    "    # Each qubit index corresponds to a pair of labels, indicating the row and column indices of the 2 x 2 matrix which acts non-trivially on that qubit.\n",
    "    # Each number in the support is mapped to a pair of alphabets in the characters list, as: x -> (characters[2x], characters[2x + 1]).\n",
    "    # Eg. (x, y, z) ---> (C[2x] C[2y] C[2z] , C[2x + 1] C[2y + 1] C[2z + 1])\n",
    "    if characters == None:\n",
    "        characters = [c for c in string.ascii_lowercase] + [c for c in string.ascii_uppercase]\n",
    "    #print(\"characters\\n{}\".format(characters))\n",
    "    #print(\"support\\n{}\".format(supports))\n",
    "    labels = [[[-1, -1] for q in interac] for interac in supports]\n",
    "    #print(\"labels\\n{}\".format(labels))\n",
    "    unique_qubits = np.unique([q for sup in supports for q in sup])\n",
    "    #print(\"unique qubits\\n{}\".format(unique_qubits))\n",
    "    free_index = {q:[-1, -1] for q in unique_qubits}\n",
    "    for i in range(len(supports)):\n",
    "            sup = supports[i]\n",
    "            #print(\"Support: {}\".format(sup))\n",
    "            for j in range(len(sup)):\n",
    "                    #print(\"Qubit: {}\".format(sup[j]))\n",
    "                    q = sup[j]\n",
    "                    if (free_index[q][0] == -1):\n",
    "                        free_index[q][0] = characters.pop()\n",
    "                        free_index[q][1] = characters.pop()\n",
    "                        #print(\"Assigning {} and {} to qubit {} of map {}\\n\".format(free_index[q][0],free_index[q][1],q,i))\n",
    "                        labels[i][j][0] = free_index[q][0]\n",
    "                        labels[i][j][1] = free_index[q][1]\n",
    "                    else:\n",
    "                        labels[i][j][0] = free_index[q][1]\n",
    "                        free_index[q][1] = characters.pop()\n",
    "                        labels[i][j][1] = free_index[q][1]\n",
    "                        #print(\"Assigning {} and {} to qubit {} of map {}\\n\".format(labels[i][j][0],labels[i][j][1],q,i))\n",
    "                    #print(\"labels\\n{}\\nfree index\\n{}\".format(labels, free_index))\n",
    "    #print(\"labels\\n{}\\nfree index\\n{}\".format(labels, free_index))\n",
    "    return (labels, free_index)"
   ]
  },
  {
   "cell_type": "code",
   "execution_count": 24,
   "metadata": {},
   "outputs": [],
   "source": [
    "def ContractThetaNetwork(theta_dict, end_trace=0):\n",
    "    # Compute the Theta matrix of a composition of channels.\n",
    "    # The individual channels are provided a list where each one is a pair: (s, O) where s is the support and O is the theta matrix.\n",
    "    # We will use einsum to contract the tensor network of channels.\n",
    "    supports = [list(sup) for (sup, op) in theta_dict]\n",
    "    (contraction_labels, free_labels) = SupportToLabel(supports)\n",
    "    #print(\"contraction_labels = {}\".format(contraction_labels))\n",
    "    row_labels = [\"\".join([q[0] for q in interac]) for interac in contraction_labels]\n",
    "    #print(\"row_contraction_labels = {}\".format(row_labels))\n",
    "    col_labels = [\"\".join([q[1] for q in interac]) for interac in contraction_labels]\n",
    "    #print(\"col_contraction_labels = {}\".format(col_labels))\n",
    "    left = \",\".join([\"%s%s\" % (row_labels[i], col_labels[i]) for i in range(len(contraction_labels))])\n",
    "    #print(\"left = {}\".format(left))\n",
    "    free_row_labels = [free_labels[q][0] for q in free_labels]\n",
    "    #print(\"free_row_labels = {}\".format(free_row_labels))\n",
    "    free_col_labels = [free_labels[q][1] for q in free_labels]\n",
    "    #print(\"free_col_labels = {}\".format(free_col_labels))\n",
    "    \n",
    "    if end_trace == 1:\n",
    "        # If the last operation is a trace, we need to contract the free row and column indices.\n",
    "        # So we should make sure that the i-th free row index = i-th free column index.\n",
    "        while len(free_row_labels) > 0:\n",
    "            r_lab = free_row_labels.pop()\n",
    "            c_lab = free_col_labels.pop()\n",
    "            left = left.replace(c_lab, r_lab)\n",
    "        right = \"\"\n",
    "    else:\n",
    "        right = \"%s%s\" % (\"\".join(free_row_labels), \"\".join(free_col_labels))\n",
    "    #print(\"right = {}\".format(right))\n",
    "    scheme = \"%s->%s\" % (left, right)\n",
    "    #print(\"Contraction scheme = {}\".format(scheme))\n",
    "    theta_ops = [op for (__, op) in theta_dict]\n",
    "    composed = OptimalEinsum(scheme, theta_ops, opt=\"greedy\", verbose=0)\n",
    "    #composed_support = np.unique([q for (sup, op) in theta_dict for q in sup])\n",
    "    #composed_dict = [(composed_support, composed)]\n",
    "    return composed"
   ]
  },
  {
   "cell_type": "code",
   "execution_count": 28,
   "metadata": {
    "scrolled": true
   },
   "outputs": [
    {
     "name": "stdout",
     "output_type": "stream",
     "text": [
      "Result has dimensions ().\n",
      "61658.03651223216\n"
     ]
    }
   ],
   "source": [
    "theta_dict = [(range(4), np.random.rand(4,4,4,4,4,4,4,4)), ((0,1), np.random.rand(4,4,4,4)), ((1,2), np.random.rand(4,4,4,4)), ((2,3), np.random.rand(4,4,4,4))]\n",
    "#print(\"Contracting the Theta network\\n{}\".format(theta_dict))\n",
    "contracted = ContractThetaNetwork(theta_dict, end_trace=1)\n",
    "print(\"Result has dimensions {}.\".format(contracted.shape))\n",
    "if contracted.ndim <= 2:\n",
    "    print(contracted)"
   ]
  },
  {
   "cell_type": "code",
   "execution_count": 25,
   "metadata": {},
   "outputs": [],
   "source": [
    "def TensorTrace(tensor, indices = \"all\", characters = None):\n",
    "    # Compute the Trace of the tensor.\n",
    "    if characters == None:\n",
    "        characters = [c for c in string.ascii_lowercase] + [c for c in string.ascii_uppercase]\n",
    "    labels = [characters[i] for i in range(tensor.ndim)]\n",
    "    if indices == \"all\":\n",
    "        indices = range(tensor.ndim//2)\n",
    "    for i in indices:\n",
    "        labels[i] = labels[i + int(tensor.ndim//2)]\n",
    "    # Find unique labels in labels.\n",
    "    print(\"labels = {}\".format(labels))\n",
    "    (right, counts) = np.unique(labels, return_counts=True)\n",
    "    free_labels = list(right[np.argwhere(counts == 1).flatten()])\n",
    "    scheme = \"%s->%s\" % (\"\".join(labels), \"\".join(free_labels))\n",
    "    trace = OptimalEinsum(scheme, [tensor])\n",
    "    return trace"
   ]
  },
  {
   "cell_type": "code",
   "execution_count": 26,
   "metadata": {},
   "outputs": [],
   "source": [
    "def ThetaToChiElement(pauli_op_i, pauli_op_j, theta, supp_theta):\n",
    "    # Convert from the Theta representation to the Chi representation.\n",
    "    # The \"Theta\" matrix T of a CPTP map whose chi-matrix is X is defined as:\n",
    "    # T_ij = \\sum_(ij) [ X_ij (P_i o (P_j)^T) ]\n",
    "    # So we find that\n",
    "    # Chi_ij = Tr[ (P_i o (P_j)^T) T]\n",
    "    # Note that [P_i o (P_j)^T] can be expressed as a product of the single qubit Pauli matrices\n",
    "    # (P^(1)_i)_(r1,c1) (P^(1)_j)_(c(N+1),r(N+1)) x ... x (P^(N)_i)_(c(N),r(N)) (P^(N)_j)_(c(2N),r(2N))\n",
    "    # We will store T as a Tensor with dimension = (2 * number of qubits) and bond dimension = 4.\n",
    "    #click = timer()\n",
    "    nq = pauli_op_i.size\n",
    "    # print(\"nq = {}\".format(nq))\n",
    "    #Pi = PauliTensor(pauli_op_i)\n",
    "    # print(\"Pi shape = {}\".format(Pi.shape))\n",
    "    #Pj = PauliTensor(pauli_op_j)\n",
    "    # print(\"Pj shape = {}\".format(Pj.shape))\n",
    "    #PjT = TensorTranspose(Pj)\n",
    "    # print(\"PjT shape = {}\".format(PjT.shape))\n",
    "    #print(\"Building Paulis took {} seconds\".format(timer() - click))\n",
    "    #click = timer()\n",
    "    #PioPjT = np.reshape(TensorKron(Pi, PjT), tuple([4, 4] * nq))\n",
    "    #print(\"TensorKron took {} seconds\".format(timer() - click))\n",
    "    # print(\"PioPjT shape = {}\".format(PioPjT.shape))\n",
    "    theta_reshaped = theta.reshape(*[4,4] * len(supp_theta))\n",
    "    # print(\"theta_reshaped shape = {}\".format(theta_reshaped.shape))\n",
    "    click = timer()\n",
    "    ops = [(tuple(list(range(nq))), PioPjT), (supp_theta, theta_reshaped)]\n",
    "    Pi = [((q,), PauliTensor(pauli_op_i[q, :])) for q in range(nq)]\n",
    "    Pj = [((q,), PauliTensor(pauli_op_j[q, :])) for q in range(nq)]\n",
    "    PioPjT_theta = ContractTensorNetwork(ops + Pi + Pj, end_trace=1)\n",
    "    print(\"ContractTensorNetwork took {} seconds\".format(timer() - click))\n",
    "    # print(\"PioPjT_theta shape = {}.\".format(PioPjT_theta.shape))\n",
    "    click = timer()\n",
    "    chi_elem = TensorTrace(PioPjT_theta)/4**nq\n",
    "    print(\"TensorTrace took {} seconds\".format(timer() - click))\n",
    "    print(\"Chi element of Pauli op {} = {}\".format(pauli_op_i, chi_elem))\n",
    "    return chi_elem"
   ]
  },
  {
   "cell_type": "code",
   "execution_count": 27,
   "metadata": {},
   "outputs": [
    {
     "name": "stdout",
     "output_type": "stream",
     "text": [
      "nq = 4\n",
      "Pi shape = (2, 2, 2, 2, 2, 2, 2, 2)\n",
      "Pj shape = (2, 2, 2, 2, 2, 2, 2, 2)\n",
      "PjT shape = (2, 2, 2, 2, 2, 2, 2, 2)\n",
      "PioPjT shape = (4, 4, 4, 4, 4, 4, 4, 4)\n",
      "theta_reshaped shape = (4, 4, 4, 4)\n",
      "PioPjT_theta shape = (4, 4, 4, 4, 4, 4, 4, 4).\n",
      "labels = ['e', 'f', 'g', 'h', 'e', 'f', 'g', 'h']\n",
      "chi_ij = (117.04895094495778+0j)\n"
     ]
    }
   ],
   "source": [
    "pauli_op_i = GetNQubitPauli(0, 4)\n",
    "pauli_op_j = GetNQubitPauli(0, 4)\n",
    "theta = np.random.rand(16, 16)\n",
    "supp_theta = (0, 1)\n",
    "chi_ij = ThetaToChiElement(pauli_op_i, pauli_op_j, theta, supp_theta)\n",
    "print(\"chi_ij = {}\".format(chi_ij))"
   ]
  },
  {
   "cell_type": "code",
   "execution_count": 28,
   "metadata": {},
   "outputs": [
    {
     "data": {
      "text/plain": [
       "array([0, 0, 0, 0])"
      ]
     },
     "execution_count": 28,
     "metadata": {},
     "output_type": "execute_result"
    }
   ],
   "source": [
    "pauli_op_i"
   ]
  },
  {
   "cell_type": "code",
   "execution_count": null,
   "metadata": {},
   "outputs": [],
   "source": []
  }
 ],
 "metadata": {
  "kernelspec": {
   "display_name": "Python 3",
   "language": "python",
   "name": "python3"
  },
  "language_info": {
   "codemirror_mode": {
    "name": "ipython",
    "version": 3
   },
   "file_extension": ".py",
   "mimetype": "text/x-python",
   "name": "python",
   "nbconvert_exporter": "python",
   "pygments_lexer": "ipython3",
   "version": "3.7.1"
  }
 },
 "nbformat": 4,
 "nbformat_minor": 2
}
