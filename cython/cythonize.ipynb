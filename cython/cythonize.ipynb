{
 "cells": [
  {
   "cell_type": "code",
   "execution_count": 1,
   "metadata": {},
   "outputs": [],
   "source": [
    "%load_ext cython"
   ]
  },
  {
   "cell_type": "code",
   "execution_count": 2,
   "metadata": {},
   "outputs": [],
   "source": [
    "import numpy as np\n",
    "#cimport numpy as np\n",
    "from contract import ContractTensorNetwork"
   ]
  },
  {
   "cell_type": "code",
   "execution_count": 3,
   "metadata": {},
   "outputs": [
    {
     "ename": "SyntaxError",
     "evalue": "invalid syntax (<ipython-input-3-e02f0253786c>, line 1)",
     "output_type": "error",
     "traceback": [
      "\u001b[0;36m  File \u001b[0;32m\"<ipython-input-3-e02f0253786c>\"\u001b[0;36m, line \u001b[0;32m1\u001b[0m\n\u001b[0;31m    def KraussToTheta(np.ndarray[np.complex128, ndim=3] kraus):\u001b[0m\n\u001b[0m                        ^\u001b[0m\n\u001b[0;31mSyntaxError\u001b[0m\u001b[0;31m:\u001b[0m invalid syntax\n"
     ]
    }
   ],
   "source": [
    "def KraussToTheta(np.ndarray[np.complex128, ndim=3] kraus):\n",
    "    # Convert from the Kraus representation to the \"Theta\" representation.\n",
    "    # The \"Theta\" matrix T of a CPTP map whose chi-matrix is X is defined as:\n",
    "    # T_ij = \\sum_(ij) [ X_ij (P_i o (P_j)^T) ]\n",
    "    # Note that the chi matrix X can be defined using the Kraus matrices {K_k} in the following way\n",
    "    # X_ij = \\sum_k [ <P_i|K_k><K_k|P_j> ]\n",
    "    # \t   = \\sum_k [ Tr(P_i K_k) Tr((K_k)^\\dag P_j)]\n",
    "    # So we find that\n",
    "    # T = \\sum_(ij) [ \\sum_k [ Tr(P_i K_k) Tr((K_k)^\\dag P_j)] ] (P_i o (P_j)^T) ]\n",
    "    # We will store T as a Tensor with dimension = (2 * number of qubits) and bond dimension = 4.\n",
    "    cdef np.ndarray[np.complex128, ndim=3] Paulis = np.array([[[1, 0], [0, 1]], [[0, 1], [1, 0]], [[0, -1j], [1j, 0]], [[1, 0], [0, -1]]], dtype=nb.complex128)\n",
    "\n",
    "    cdef int nq = int(np.log2(kraus.shape[1]))\n",
    "\n",
    "    cdef double transpose_sign = 0\t\n",
    "    cdef np.ndarray[np.complex128, ndim=2] chi = np.zeros((4**nq, 4**nq), dtype = np.complex128)\n",
    "\n",
    "    cdef np.ndarray[np.complex128, ndim=4 * nq] theta = np.zeros(tuple([2, 2, 2, 2]*nq), dtype = np.complex128)\n",
    "    cdef np.ndarray[np.complex128, ndim=4 * nq] PjoPi = np.zeros(tuple([2, 2, 2, 2]*nq), dtype = np.complex128)\n",
    "    cdef np.ndarray[np.complex128, ndim=4 * nq] PjToPi = np.zeros(tuple([2, 2, 2, 2]*nq), dtype = np.complex128)\n",
    "\n",
    "    cdef np.ndarray[np.int, ndim=1] supp_Kdag = np.arange(nq, dtype = np.int)\n",
    "    cdef np.ndarray[np.int, ndim=1] supp_K = np.arange(nq, dtype = np.int) + nq\n",
    "    cdef np.complex128_t tr_Pi_K = 0\n",
    "    cdef np.complex128_t tr_Pi_K_dag = 0\n",
    "\n",
    "    # loop variables.\n",
    "    cdef int i, j, k, q, index, y_count\n",
    "\n",
    "    # Preparing the Pauli operators.\n",
    "    # click = timer()\n",
    "    cdef np.ndarray[np.int, ndim=2] pauli_operators = np.zeros((4**nq, nq), dtype = np.int)\t\n",
    "    cdef np.ndarray[np.int, ndim=1] transpose_signs = 1\n",
    "    for i in range(4**nq):\n",
    "        index = i\n",
    "        y_count = 0\n",
    "        for q in range(nq):\n",
    "            pauli_operators[i, nq - q - 1] = index % 4\n",
    "            index = int(index//4)\n",
    "            # Count the number of Ys' for computing the transpose.\n",
    "            if (pauli_operators[i, q] == 2):\n",
    "                y_count += 1\n",
    "        transpose_signs[i] = (-1) ** y_count \n",
    "\n",
    "    # click = timer()\n",
    "    for i in range(4**nq):\n",
    "        Pi_tensor = [((q,), Paulis[pauli_operators[i, q], :, :]) for q in range(nq)]\n",
    "\n",
    "        for j in range(4**nq):\n",
    "            Pj_tensor = [((q,), Paulis[pauli_operators[j, q], :, :]) for q in range(nq)]\n",
    "            #PjT_tensor = [(tuple(list(range(nq))), transpose_sign * pauli_tensors[j])]\n",
    "\n",
    "            # click = timer()\n",
    "\n",
    "            if (i <= j):\n",
    "                for k in range(kraus.shape[0]):\n",
    "                    K = [(supp_K, np.reshape(kraus[k, :, :], tuple([2, 2]*nq)))]\n",
    "                    Kdag = [(supp_Kdag, np.reshape(np.conj(kraus[k, :, :].T), tuple([2, 2]*nq)))]\n",
    "\n",
    "                    (__, tr_Pi_K) = ContractTensorNetwork(K + Pi_tensor, end_trace=1)\n",
    "                    (__, tr_Pj_Kdag) = ContractTensorNetwork(Kdag + Pj_tensor, end_trace=1)\n",
    "\n",
    "                    chi[i, j] += tr_Pi_K * tr_Pj_Kdag\n",
    "\n",
    "                chi[i, j] /= 4**nq\n",
    "\n",
    "            else:\n",
    "                chi[i, j] = np.conj(chi[j, i])\n",
    "\n",
    "            if (i == j):\n",
    "                if ((np.real(chi[i, j]) <= -1E-14) or (np.abs(np.imag(chi[i, j])) >= 1E-14)):\n",
    "                    print(\"Error: Chi[%d, %d] = %g + i %g\" % (i, j, np.real(chi[i, j]), np.imag(chi[i, j])))\n",
    "                    exit(0)\n",
    "\n",
    "            (__, PjoPi) = ContractTensorNetwork(Pj_tensor + Pi_tensor, end_trace=0)\n",
    "            PjToPi = PjoPi * transpose_signs[j]\n",
    "            theta += chi[i, j] * PjToPi\n",
    "\n",
    "            # print(\"Chi[%d, %d] = %g + i %g was computed in %d seconds.\" % (i, j, np.real(chi[i, j]), np.imag(chi[i, j]), timer() - click))\n",
    "        # print(\"----\")\n",
    "\n",
    "    # print(\"Theta matrix was computed in {} seconds.\".format(timer() - click))\n",
    "    return theta"
   ]
  },
  {
   "cell_type": "code",
   "execution_count": null,
   "metadata": {},
   "outputs": [],
   "source": []
  }
 ],
 "metadata": {
  "kernelspec": {
   "display_name": "Python 3",
   "language": "python",
   "name": "python3"
  },
  "language_info": {
   "codemirror_mode": {
    "name": "ipython",
    "version": 3
   },
   "file_extension": ".py",
   "mimetype": "text/x-python",
   "name": "python",
   "nbconvert_exporter": "python",
   "pygments_lexer": "ipython3",
   "version": "3.7.9"
  }
 },
 "nbformat": 4,
 "nbformat_minor": 4
}
