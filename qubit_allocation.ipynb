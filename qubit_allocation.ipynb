{
 "cells": [
  {
   "cell_type": "code",
   "execution_count": 8,
   "metadata": {},
   "outputs": [],
   "source": [
    "import numpy as np\n",
    "import cvxpy as cp\n",
    "import random"
   ]
  },
  {
   "cell_type": "code",
   "execution_count": 13,
   "metadata": {},
   "outputs": [],
   "source": [
    "def generate_support(nmaps, nqubits, nmaps_per_qubit, qubit_occupancies):\n",
    "    mat = cp.Variable(shape=(nmaps,nqubits), boolean = True)\n",
    "    constraints = []\n",
    "    col_sums = cp.sum(mat, axis=0, keepdims=True)\n",
    "    constraints.append(col_sums >= 1)\n",
    "    row_sums = cp.sum(mat, axis=1)\n",
    "    constraints.append(row_sums == qubit_occupancies)\n",
    "    objective = cp.Minimize(cp.norm(col_sums - nmaps_per_qubit, \"fro\"))\n",
    "    problem = cp.Problem(objective, constraints)\n",
    "    problem.solve(parallel=True, verbose=False)\n",
    "    print(problem.status)\n",
    "    if (\"optimal\" in problem.status):\n",
    "        support = [tuple(np.nonzero(np.round(row).astype(np.int))[0]) for row in mat.value]\n",
    "        print(\"Optimization value = {}\".format(problem.value))\n",
    "        print(\"Occupancy matrix = {}\".format(mat.value))\n",
    "        print(\"Number of maps per qubit : {}\".format(np.sum(mat.value,axis=0)))\n",
    "        print(\"Support : {}\".format(support))\n",
    "    else:\n",
    "        print(\"Qubit allocation to maps infeasible.\")"
   ]
  },
  {
   "cell_type": "code",
   "execution_count": 16,
   "metadata": {},
   "outputs": [
    {
     "name": "stdout",
     "output_type": "stream",
     "text": [
      "Qubit occupancies : [3 1]\n",
      "infeasible_inaccurate\n",
      "Qubit allocation to maps infeasible.\n"
     ]
    }
   ],
   "source": [
    "nmaps = 2\n",
    "nqubits = 7\n",
    "nmaps_per_qubit = max(0.1*nmaps,1)\n",
    "qubit_occupancies = np.array([ random.randint(1, nqubits//2) for __ in range(nmaps)])\n",
    "print(\"Qubit occupancies : {}\".format(qubit_occupancies))\n",
    "generate_support(nmaps, nqubits, nmaps_per_qubit, qubit_occupancies)"
   ]
  },
  {
   "cell_type": "code",
   "execution_count": 26,
   "metadata": {},
   "outputs": [
    {
     "data": {
      "text/plain": [
       "0.0"
      ]
     },
     "execution_count": 26,
     "metadata": {},
     "output_type": "execute_result"
    }
   ],
   "source": [
    "np.round(1E-5)"
   ]
  },
  {
   "cell_type": "code",
   "execution_count": 4,
   "metadata": {},
   "outputs": [
    {
     "name": "stdout",
     "output_type": "stream",
     "text": [
      "3.7.1 (v3.7.1:260ec2c36a, Oct 20 2018, 03:13:28) \n",
      "[Clang 6.0 (clang-600.0.57)]\n"
     ]
    }
   ],
   "source": [
    "import sys\n",
    "print (sys.version)"
   ]
  },
  {
   "cell_type": "code",
   "execution_count": 24,
   "metadata": {},
   "outputs": [
    {
     "data": {
      "text/plain": [
       "[5, 3, 2, 4, 3, 2, 1, 1, 2, 2]"
      ]
     },
     "execution_count": 24,
     "metadata": {},
     "output_type": "execute_result"
    }
   ],
   "source": [
    "[np.random.poisson(lam=1.5) for __ in range(10)]"
   ]
  },
  {
   "cell_type": "code",
   "execution_count": null,
   "metadata": {},
   "outputs": [],
   "source": []
  }
 ],
 "metadata": {
  "kernelspec": {
   "display_name": "Python 3",
   "language": "python",
   "name": "python3"
  },
  "language_info": {
   "codemirror_mode": {
    "name": "ipython",
    "version": 3
   },
   "file_extension": ".py",
   "mimetype": "text/x-python",
   "name": "python",
   "nbconvert_exporter": "python",
   "pygments_lexer": "ipython3",
   "version": "3.7.1"
  }
 },
 "nbformat": 4,
 "nbformat_minor": 4
}
